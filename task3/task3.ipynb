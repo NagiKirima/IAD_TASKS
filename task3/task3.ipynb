{
 "cells": [
  {
   "cell_type": "markdown",
   "metadata": {
    "id": "64JPlHixec69"
   },
   "source": [
    "# Практика 17.10.23\n",
    "\n",
    "1. Сгенерировать, используя модуль псевдослучайных чисел `random`, или ввести с клавиатуры список целых чисел. Вывести в консоль, затем перевернуть его и снова вывести в консоль.\n",
    "\n",
    "2. Сгенерировать, используя модуль псевдослучайных чисел `random`, или ввести с клавиатуры два списка целых чисел. Вывести их в консоль. Создать новый пустой список. Добавить в него все четные (по индексу) элементы первого списка и все нечетные (по индексу) элементы второго списка. Вывести третий список в консоль.\n",
    "\n",
    "3. Сгенерировать, используя модуль псевдослучайных чисел `random`, или ввести с клавиатуры список произвольных элементов (целые числа, числа с плавающей точкой, строки). Вывести в консоль. Убрать из него все дубликаты через приведение типов. Вывести в консоль.\n",
    "\n",
    "4. Сгенерировать, используя модуль псевдослучайных чисел `random`, или ввести с клавиатуры словарь, где ключом является строка, значением — целое число или число с плавающей точкой. Вывести в консоль. Для всех уникальных значений создать кортеж, где первым элементом будет значение, вторым — список связанных с ним ключей. Собрать эти кортежи в список, вывести его в консоль.\n",
    "\n",
    "5. Сгенерировать, используя модуль псевдослучайных чисел `random`, или ввести с клавиатуры два словаря, где ключом является строка, значением — целое число или число с плавающей точкой. Вывести в консоль. Найти пересечения множеств значений словарей. Создать новый словарь, содержащий только те пары ключ-значение, значения из которых входит в пересечение. Вывести в консоль.\n",
    "\n",
    "[Ссылка на документацию](https://docs.python.org/3/library/random.html)"
   ]
  },
  {
   "cell_type": "markdown",
   "metadata": {
    "id": "khjUmcSBfC_P"
   },
   "source": [
    "## Задание 1"
   ]
  },
  {
   "cell_type": "markdown",
   "metadata": {
    "id": "HAVFiCLPo28O"
   },
   "source": [
    "### Эталонный пример 1"
   ]
  },
  {
   "cell_type": "code",
   "execution_count": null,
   "metadata": {
    "id": "hBqwHtZsfA9w"
   },
   "outputs": [],
   "source": []
  },
  {
   "cell_type": "markdown",
   "metadata": {
    "id": "J0j2RNGho6KG"
   },
   "source": [
    "#### Кузнецов Николай Дмитриевич АСУ-20-1Б - Задание 1"
   ]
  },
  {
   "cell_type": "code",
   "execution_count": null,
   "metadata": {
    "colab": {
     "base_uri": "https://localhost:8080/"
    },
    "id": "oZVYzduGpBpC",
    "outputId": "e0957530-0909-4f99-bc31-0e016d2d810e"
   },
   "outputs": [
    {
     "name": "stdout",
     "output_type": "stream",
     "text": [
      "[48, 60, 94, 9, 58, 12, 10, 11, 73, 51, 84, 75, 31, 55, 19, 27, 93, 65, 28, 14, 0, 96, 10, 3, 68, 10, 64, 27, 12, 97, 24, 85, 7, 8, 35, 74]\n",
      "[74, 35, 8, 7, 85, 24, 97, 12, 27, 64, 10, 68, 3, 10, 96, 0, 14, 28, 65, 93, 27, 19, 55, 31, 75, 84, 51, 73, 11, 10, 12, 58, 9, 94, 60, 48]\n"
     ]
    }
   ],
   "source": [
    "import random\n",
    "\n",
    "list_len = random.randint(30, 50)\n",
    "generated_list = [random.randint(0, 100) for i in range(list_len)]\n",
    "print(generated_list)\n",
    "generated_list.reverse()\n",
    "print(generated_list)"
   ]
  },
  {
   "cell_type": "markdown",
   "metadata": {
    "id": "a1gbYjASfIqJ"
   },
   "source": [
    "## Задание 2"
   ]
  },
  {
   "cell_type": "code",
   "execution_count": null,
   "metadata": {
    "colab": {
     "base_uri": "https://localhost:8080/"
    },
    "id": "3DFZiLwJfMfC",
    "outputId": "e1671ae3-e627-4e8d-8b2a-303e9d0a3079"
   },
   "outputs": [
    {
     "name": "stdout",
     "output_type": "stream",
     "text": [
      "[59, 41, 64, 2, 10, 98, 89, 85, 85, 2, 25, 29, 31, 88, 91, 17, 81, 58, 2, 97, 24, 5, 18, 85, 15, 60, 61, 99, 97] [12, 100, 22, 61, 89, 52, 57, 5, 16, 54, 21, 46, 51, 59, 48, 26, 98, 27, 24, 41, 91]\n",
      "[59, 64, 10, 89, 85, 25, 31, 91, 81, 2, 24, 18, 15, 61, 97, 100, 61, 52, 5, 54, 46, 59, 26, 27, 41]\n"
     ]
    }
   ],
   "source": [
    "import random\n",
    "\n",
    "len1, len2 = random.randint(20, 50), random.randint(20, 50)\n",
    "list1 = [random.randint(0, 100) for i in range(len1)]\n",
    "list2 = [random.randint(0, 100) for i in range(len2)]\n",
    "print(list1, list2, end='\\n')\n",
    "\n",
    "list3 = [elem for i, elem in enumerate(list1) if i % 2 == 0] + [elem for i, elem in enumerate(list2) if i % 2 != 0]\n",
    "print(list3)\n"
   ]
  },
  {
   "cell_type": "markdown",
   "metadata": {
    "id": "ZITkT8YUfM8t"
   },
   "source": [
    "## Задание 3"
   ]
  },
  {
   "cell_type": "code",
   "execution_count": null,
   "metadata": {
    "colab": {
     "base_uri": "https://localhost:8080/"
    },
    "id": "FL_u4MSlfS1w",
    "outputId": "063b7381-6597-427b-c09b-8f8900b48d56"
   },
   "outputs": [
    {
     "name": "stdout",
     "output_type": "stream",
     "text": [
      "[9, 6, 4, 7, 8] [4, 6, 7, 8, 9]\n"
     ]
    }
   ],
   "source": [
    "import random\n",
    "\n",
    "list_len = random.randint(5, 10)\n",
    "generated_list = [random.randint(0, 10) for i in range(list_len)]\n",
    "\n",
    "result = sorted(list(set(generated_list)))\n",
    "print(generated_list, result, end='\\n')"
   ]
  },
  {
   "cell_type": "markdown",
   "metadata": {
    "id": "sqvNf2a6fTdY"
   },
   "source": [
    "## Задание 4"
   ]
  },
  {
   "cell_type": "code",
   "execution_count": null,
   "metadata": {
    "colab": {
     "base_uri": "https://localhost:8080/"
    },
    "id": "3M4BCixjfXoq",
    "outputId": "53ecdded-c84f-443a-d31d-36655babba4e"
   },
   "outputs": [
    {
     "name": "stdout",
     "output_type": "stream",
     "text": [
      "[(0, ['343']), (3, ['532']), (6, ['432']), (7, ['515']), (9, ['766'])]\n"
     ]
    }
   ],
   "source": [
    "import random\n",
    "\n",
    "\n",
    "def get_key(d, value):\n",
    "    for k, v in d.items():\n",
    "        if v == value:\n",
    "            return k\n",
    "\n",
    "\n",
    "def generate_dict() -> dict:\n",
    "  dict_len = random.randint(5, 20)\n",
    "  return {str(random.randint(100,1000)): random.randint(0,10) for i in range(dict_len)}\n",
    "\n",
    "\n",
    "# generate dict\n",
    "d = generate_dict()\n",
    "result = [(i, [get_key(d, i)]) for i in (list(set(d.values())))]\n",
    "print(result)\n"
   ]
  },
  {
   "cell_type": "markdown",
   "metadata": {
    "id": "3V5mJOBQfYHe"
   },
   "source": [
    "## Задание 5"
   ]
  },
  {
   "cell_type": "code",
   "execution_count": null,
   "metadata": {
    "colab": {
     "base_uri": "https://localhost:8080/"
    },
    "id": "ekN9ImbzfZ2Z",
    "outputId": "8e6657ca-5a65-4654-88d9-b4368e11218b"
   },
   "outputs": [
    {
     "name": "stdout",
     "output_type": "stream",
     "text": [
      "{'634': 0, '100': 3, '833': 0, '297': 3, '515': 10, '475': 9, '830': 9, '454': 5, '320': 4, '234': 4, '305': 5, '875': 3, '393': 3, '774': 1, '969': 3, '218': 1, '978': 4, '421': 3, '226': 4, '279': 1} {'938': 7, '821': 9, '313': 0, '305': 10, '472': 1, '931': 8, '336': 0, '665': 9, '404': 9, '565': 7, '161': 5, '628': 0, '332': 1, '828': 9, '833': 7, '387': 0, '639': 7, '468': 3, '815': 5, '248': 9}\n",
      "{('634', '313'): 0, ('774', '472'): 1, ('100', '468'): 3, ('454', '161'): 5, ('475', '821'): 9, ('515', '305'): 10}\n"
     ]
    }
   ],
   "source": [
    "import random\n",
    "\n",
    "\n",
    "def get_key(d, value) -> int:\n",
    "    for k, v in d.items():\n",
    "        if v == value:\n",
    "            return k\n",
    "\n",
    "\n",
    "def generate_dict() -> dict:\n",
    "  dict_len = random.randint(5, 20)\n",
    "  return {str(random.randint(100,1000)): random.randint(0,10) for i in range(dict_len)}\n",
    "\n",
    "d1 = generate_dict()\n",
    "d2 = generate_dict()\n",
    "print(d1, d2)\n",
    "\n",
    "intersection = list(set(d1.values()) & set(d2.values()))\n",
    "result = {(get_key(d1, i), get_key(d2, i)) : i for i in intersection}\n",
    "print(result)"
   ]
  }
 ],
 "metadata": {
  "colab": {
   "provenance": []
  },
  "kernelspec": {
   "display_name": "Python 3 (ipykernel)",
   "language": "python",
   "name": "python3"
  },
  "language_info": {
   "codemirror_mode": {
    "name": "ipython",
    "version": 3
   },
   "file_extension": ".py",
   "mimetype": "text/x-python",
   "name": "python",
   "nbconvert_exporter": "python",
   "pygments_lexer": "ipython3",
   "version": "3.11.2"
  }
 },
 "nbformat": 4,
 "nbformat_minor": 4
}
