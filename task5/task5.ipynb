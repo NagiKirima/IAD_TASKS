{
 "cells": [
  {
   "cell_type": "markdown",
   "id": "5c13728f-502a-414b-ad96-c3cb996e7e04",
   "metadata": {},
   "source": [
    "Задание 1"
   ]
  },
  {
   "cell_type": "code",
   "execution_count": 4,
   "id": "bb90af10-3626-4758-9758-4267f97b4888",
   "metadata": {},
   "outputs": [
    {
     "name": "stdout",
     "output_type": "stream",
     "text": [
      "<Response [200]>\n",
      "<?xml version=\"1.0\" encoding=\"utf-8\"?><soap:Envelope xmlns:soap=\"http://schemas.xmlsoap.org/soap/envelope/\" xmlns:xsi=\"http://www.w3.org/2001/XMLSchema-instance\" xmlns:xsd=\"http://www.w3.org/2001/XMLSchema\"><soap:Body><DivideResponse xmlns=\"http://tempuri.org/\"><DivideResult>2</DivideResult></DivideResponse></soap:Body></soap:Envelope>\n"
     ]
    }
   ],
   "source": [
    "import requests\n",
    "# SOAP URL\n",
    "url = \"http://www.dneonline.com/calculator.asmx\"\n",
    " \n",
    "# structured XML\n",
    "payload = \"\"\"<?xml version=\"1.0\" encoding=\"utf-8\"?>\n",
    "                <soap:Envelope xmlns:xsi=\"http://www.w3.org/2001/XMLSchema-instance\" xmlns:xsd=\"http://www.w3.org/2001/XMLSchema\" xmlns:soap=\"http://schemas.xmlsoap.org/soap/envelope/\">\n",
    "                  <soap:Body>\n",
    "                    <Divide xmlns=\"http://tempuri.org/\">\n",
    "                      <intA>5</intA>\n",
    "                      <intB>2</intB>\n",
    "                    </Divide>\n",
    "                  </soap:Body>\n",
    "                </soap:Envelope>\"\"\"\n",
    "# headers\n",
    "headers = {\n",
    "    'Content-Type': 'text/xml; charset=utf-8'\n",
    "}\n",
    "\n",
    "response = requests.request(\"POST\", url, headers=headers, data=payload)\n",
    " \n",
    "print(response)\n",
    "print(response.text)"
   ]
  },
  {
   "cell_type": "markdown",
   "id": "46e7ecc6-1738-4956-9d49-1814dadebfb1",
   "metadata": {},
   "source": [
    "Задание 2"
   ]
  },
  {
   "cell_type": "code",
   "execution_count": 5,
   "id": "d79b9df8-05f8-488e-8af8-dba35fe3548c",
   "metadata": {},
   "outputs": [],
   "source": [
    "import zeep\n",
    "\n",
    "# WSDL URL\n",
    "wsdl_url = \"http://webservices.oorsprong.org/websamples.countryinfo/CountryInfoService.wso?WSDL\"\n",
    "\n",
    "# URL метода\n",
    "method_url = \"http://webservices.oorsprong.org/websamples.countryinfo/FullCountryInfo\"\n",
    "\n",
    "# URL сервиса\n",
    "service_url = \"http://webservices.oorsprong.org/websamples.countryinfo/CountryInfoService.wso\""
   ]
  },
  {
   "cell_type": "code",
   "execution_count": 6,
   "id": "a96d8dac-fcbf-4e1c-b6dd-9743957e9ba8",
   "metadata": {},
   "outputs": [
    {
     "name": "stdout",
     "output_type": "stream",
     "text": [
      "{\n",
      "    'sISOCode': 'RU',\n",
      "    'sName': 'Russian Federation',\n",
      "    'sCapitalCity': 'Moscow',\n",
      "    'sPhoneCode': '7',\n",
      "    'sContinentCode': 'AS',\n",
      "    'sCurrencyISOCode': 'RUB',\n",
      "    'sCountryFlag': 'http://www.oorsprong.org/WebSamples.CountryInfo/Flags/Russian.jpg',\n",
      "    'Languages': {\n",
      "        'tLanguage': [\n",
      "            {\n",
      "                'sISOCode': 'rus',\n",
      "                'sName': 'Russian'\n",
      "            }\n",
      "        ]\n",
      "    }\n",
      "}\n",
      "{\n",
      "    'sISOCode': 'GB',\n",
      "    'sName': 'United Kingdom',\n",
      "    'sCapitalCity': 'London',\n",
      "    'sPhoneCode': '44',\n",
      "    'sContinentCode': 'EU',\n",
      "    'sCurrencyISOCode': 'GBP',\n",
      "    'sCountryFlag': 'http://www.oorsprong.org/WebSamples.CountryInfo/Flags/United_Kingdom.jpg',\n",
      "    'Languages': {\n",
      "        'tLanguage': [\n",
      "            {\n",
      "                'sISOCode': 'eng',\n",
      "                'sName': 'English'\n",
      "            }\n",
      "        ]\n",
      "    }\n",
      "}\n"
     ]
    }
   ],
   "source": [
    "# создание header element\n",
    "header = zeep.xsd.Element(\n",
    "    \"Header\",\n",
    "    zeep.xsd.ComplexType(\n",
    "        [\n",
    "            zeep.xsd.Element(\n",
    "                \"{http://www.w3.org/2005/08/addressing}Action\", zeep.xsd.String()\n",
    "            ),\n",
    "            zeep.xsd.Element(\n",
    "                \"{http://www.w3.org/2005/08/addressing}To\", zeep.xsd.String()\n",
    "            ),\n",
    "        ]\n",
    "    ),\n",
    ")\n",
    "# установка header value из header element\n",
    "header_value = header(Action=method_url, To=service_url)\n",
    "\n",
    "# инициализация zeep клиента\n",
    "client = zeep.Client(wsdl=wsdl_url)\n",
    "\n",
    "def get_all_data_by_code(country_code: str): \n",
    "    # делаем запрос в сервис\n",
    "    result = client.service.FullCountryInfo(\n",
    "        sCountryISOCode=country_code,\n",
    "        _soapheaders=[header_value]\n",
    "    )\n",
    "    print(result)\n",
    "\n",
    "# ставим код страны Russia\n",
    "get_all_data_by_code(\"RU\")\n",
    "\n",
    "# вводим код страны United Kingdom\n",
    "get_all_data_by_code(\"GB\")"
   ]
  },
  {
   "cell_type": "code",
   "execution_count": null,
   "id": "84d3d211-810d-4802-a380-64dde4e2ff85",
   "metadata": {},
   "outputs": [],
   "source": []
  }
 ],
 "metadata": {
  "kernelspec": {
   "display_name": "Python 3 (ipykernel)",
   "language": "python",
   "name": "python3"
  },
  "language_info": {
   "codemirror_mode": {
    "name": "ipython",
    "version": 3
   },
   "file_extension": ".py",
   "mimetype": "text/x-python",
   "name": "python",
   "nbconvert_exporter": "python",
   "pygments_lexer": "ipython3",
   "version": "3.11.2"
  }
 },
 "nbformat": 4,
 "nbformat_minor": 5
}
